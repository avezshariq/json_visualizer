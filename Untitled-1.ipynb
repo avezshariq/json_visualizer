{
 "cells": [
  {
   "cell_type": "code",
   "execution_count": 374,
   "metadata": {
    "metadata": {}
   },
   "outputs": [
    {
     "data": {
      "text/plain": [
       "{'random': 33,\n",
       " 'random float': '7.662',\n",
       " 'bool': True,\n",
       " 'date': '1987-01-13',\n",
       " 'regEx': 'hellooooooooooooooooooooooooooooooooooooooooooooooooooooooooooooooooooooooo world',\n",
       " 'email uses current data': 'Vevay.Kalinda@gmail.com',\n",
       " 'email from expression': 'Vevay.Kalinda@yopmail.com',\n",
       " 'array': ['Cacilie', 'Nerta', 'Blake', 'Wanda', 'Melanie'],\n",
       " 'array of objects': [{'index': '0', 'index start at 5': '5'},\n",
       "  {'index': '1', 'index start at 5': '6'},\n",
       "  {'index': '2', 'index start at 5': '7', 'index end at infinite': '100'}],\n",
       " 'Siana': {'age': '65'}}"
      ]
     },
     "execution_count": 374,
     "metadata": {},
     "output_type": "execute_result"
    }
   ],
   "source": [
    "import json\n",
    "\n",
    "with open('data.json', 'r') as f:\n",
    "    data = json.load(f)\n",
    "\n",
    "data\n"
   ]
  },
  {
   "cell_type": "code",
   "execution_count": 375,
   "metadata": {
    "metadata": {}
   },
   "outputs": [
    {
     "name": "stdout",
     "output_type": "stream",
     "text": [
      "['ROOT.random', 'ROOT.random float', 'ROOT.bool', 'ROOT.date', 'ROOT.regEx', 'ROOT.email uses current data', 'ROOT.email from expression', 'ROOT.array.ARRAY--5--ITEMS', 'ROOT.array of objects.ARRAY--3--ITEMS.index', 'ROOT.array of objects.ARRAY--3--ITEMS.index start at 5', 'ROOT.array of objects.ARRAY--3--ITEMS.index end at infinite', 'ROOT.Siana.age']\n"
     ]
    }
   ],
   "source": [
    "def json_sorter(obj, initial_string='ROOT'):\n",
    "    if isinstance(obj, dict):\n",
    "        for key, value in obj.items():\n",
    "            if isinstance(value, int) or isinstance(value, float) or isinstance(value, str) or isinstance(value, bool):\n",
    "                result = initial_string + '.' + key\n",
    "                all_items.append(result)\n",
    "            else:\n",
    "                stringy = initial_string + '.' + key\n",
    "                json_sorter(value, initial_string=stringy)\n",
    "    elif isinstance(obj, list):\n",
    "        length = len(obj)\n",
    "        stringy = f'{initial_string}.ARRAY--{len(obj)}--ITEMS'\n",
    "        for item in obj:\n",
    "            if isinstance(item, int) or isinstance(item, float) or isinstance(item, str) or isinstance(item, bool):\n",
    "                result = f'{initial_string}.ARRAY--{length}--ITEMS'\n",
    "                all_items.append(result)\n",
    "            else:\n",
    "                json_sorter(item, initial_string=stringy)\n",
    "\n",
    "all_items = []\n",
    "json_sorter(data)\n",
    "all_unique_items = []\n",
    "for x in all_items:\n",
    "    if x not in all_unique_items:\n",
    "        all_unique_items.append(x)\n",
    "print(all_unique_items)"
   ]
  },
  {
   "cell_type": "code",
   "execution_count": 376,
   "metadata": {
    "metadata": {}
   },
   "outputs": [
    {
     "name": "stdout",
     "output_type": "stream",
     "text": [
      "['ROOT.random.NULL.NULL', 'ROOT.random float.NULL.NULL', 'ROOT.bool.NULL.NULL', 'ROOT.date.NULL.NULL', 'ROOT.regEx.NULL.NULL', 'ROOT.email uses current data.NULL.NULL', 'ROOT.email from expression.NULL.NULL', 'ROOT.array.ARRAY--5--ITEMS.NULL', 'ROOT.array of objects.ARRAY--3--ITEMS.index', 'ROOT.array of objects.ARRAY--3--ITEMS.index start at 5', 'ROOT.array of objects.ARRAY--3--ITEMS.index end at infinite', 'ROOT.Siana.age.NULL']\n"
     ]
    }
   ],
   "source": [
    "# Normalise the result\n",
    "max_length = 0\n",
    "for item in all_unique_items:\n",
    "    splitted_list = item.split('.')\n",
    "    max_length = max(max_length, len(splitted_list))\n",
    "\n",
    "all_items_normalised = []\n",
    "for item in all_unique_items:\n",
    "    splitted_list = item.split('.')\n",
    "    nulls_to_add = max_length - len(splitted_list)\n",
    "    if nulls_to_add:\n",
    "        stringy = item + '.NULL'*nulls_to_add\n",
    "    else:\n",
    "        stringy = item\n",
    "    all_items_normalised.append(item + '.NULL'*nulls_to_add)\n",
    "\n",
    "print(all_items_normalised)"
   ]
  },
  {
   "cell_type": "code",
   "execution_count": 377,
   "metadata": {
    "metadata": {}
   },
   "outputs": [
    {
     "name": "stdout",
     "output_type": "stream",
     "text": [
      "{0: 10, 1: 242, 2: 626, 3: 946}\n",
      "{0: 10, 1: 70, 2: 130, 3: 190, 4: 250, 5: 310, 6: 370, 7: 430, 8: 490, 9: 550, 10: 610, 11: 670}\n"
     ]
    }
   ],
   "source": [
    "# Matrix type dimensioning\n",
    "matrix_cols = max_length\n",
    "matrix_rows = len(all_items_normalised)\n",
    "\n",
    "length_dict = {x:0 for x in range(matrix_cols)}\n",
    "for item in all_items_normalised:\n",
    "    splitted_list = item.split('.')\n",
    "    for i in range(matrix_cols):\n",
    "        length_dict[i] = max(length_dict[i], len(splitted_list[i]))\n",
    "\n",
    "x_dim_dict = {0:10}\n",
    "for i in range(1, matrix_cols):\n",
    "    x_dim_dict[i] =  x_dim_dict[i-1] + length_dict[i-1]*8 + 200\n",
    "\n",
    "print(x_dim_dict)\n",
    "y = list(range(10, 60*matrix_rows, 60))\n",
    "y_dim_dict = {i:y[i] for i in range(matrix_rows)}\n",
    "print(y_dim_dict)"
   ]
  },
  {
   "cell_type": "code",
   "execution_count": 378,
   "metadata": {
    "metadata": {}
   },
   "outputs": [],
   "source": [
    "final_array = []\n",
    "for i in range(matrix_rows):\n",
    "    items = all_items_normalised[i].split('.')\n",
    "    array = []\n",
    "    for j in range(len(items)):\n",
    "        array.append((items[j], x_dim_dict[j], y_dim_dict[i]))\n",
    "    final_array.append(array)"
   ]
  },
  {
   "cell_type": "code",
   "execution_count": 379,
   "metadata": {
    "metadata": {}
   },
   "outputs": [
    {
     "name": "stdout",
     "output_type": "stream",
     "text": [
      "[('ROOT', 10, 340), ('random', 242, 10), ('random float', 242, 70), ('bool', 242, 130), ('date', 242, 190), ('regEx', 242, 250), ('email uses current data', 242, 310), ('email from expression', 242, 370), ('array', 242, 430), ('array of objects', 242, 550), ('Siana', 242, 670), ('NULL', 626, 190), ('ARRAY--5--ITEMS', 626, 430), ('ARRAY--3--ITEMS', 626, 550), ('age', 626, 670), ('NULL', 946, 270), ('index', 946, 490), ('index start at 5', 946, 550), ('index end at infinite', 946, 610)]\n"
     ]
    }
   ],
   "source": [
    "def consolidate(listy):\n",
    "    from statistics import mean\n",
    "    keys = [x[0] for x in listy]\n",
    "    keys_unique = []\n",
    "    for key in keys:\n",
    "        if key not in keys_unique:\n",
    "            keys_unique.append(key)\n",
    "    consolidated_list = []\n",
    "    for key in keys_unique:\n",
    "        x_dims = []\n",
    "        y_dims = []\n",
    "        for i in vals:\n",
    "            if i[0] == key:\n",
    "                x_dims.append(i[1])\n",
    "                y_dims.append(i[2])\n",
    "        consolidated_list.append((key, mean(x_dims), mean(y_dims)))\n",
    "        # print(consolidated_list)\n",
    "    return consolidated_list\n",
    "\n",
    "final_consolidated_list = []\n",
    "for i in range(matrix_cols):\n",
    "    vals = []\n",
    "    for row in final_array:\n",
    "        vals.append(row[i])\n",
    "    consolidated_list = consolidate(vals)\n",
    "    final_consolidated_list.extend(consolidated_list)\n",
    "\n",
    "print(final_consolidated_list)"
   ]
  },
  {
   "cell_type": "code",
   "execution_count": 380,
   "metadata": {
    "metadata": {}
   },
   "outputs": [],
   "source": [
    "width = max(x_dim_dict.values()) + 200\n",
    "height = max(y_dim_dict.values()) + 60\n",
    "html_head = '''\n",
    "<!DOCTYPE html>\n",
    "<html>\n",
    "    <head>\n",
    "        <title>JSON Visual</title>\n",
    "        <style>body {background-color: #defaea; font-family:monospace;}</style>\n",
    "    </head>\n",
    "    <body>\n",
    "'''\n",
    "html_head += f'\\t\\t<svg width=\"{width}\" height=\"{height}\">' \n",
    "\n",
    "html_tail = '''\n",
    "        </svg>\n",
    "    </body>\n",
    "</html>\n",
    "'''\n",
    "\n",
    "repo = []"
   ]
  },
  {
   "cell_type": "code",
   "execution_count": 381,
   "metadata": {
    "metadata": {}
   },
   "outputs": [],
   "source": [
    "class rectangle_with_text:\n",
    "    def __init__(self, text, rect_x, rect_y):\n",
    "        # General\n",
    "        self.text = text\n",
    "\n",
    "        # Rectangle\n",
    "        self.rect_x = rect_x\n",
    "        self.rect_y = rect_y\n",
    "        self.rect_rx = 10\n",
    "        self.rect_ry = 10\n",
    "        self.rect_width = self.rect_rx + len(self.text) * 8 + self.rect_ry\n",
    "        self.rect_height = 50\n",
    "        self.rect_fill = '#141E46'\n",
    "\n",
    "        # Text\n",
    "        self.text_x = self.rect_x + (self.rect_width - len(self.text) * 8)/2\n",
    "        self.text_y = self.rect_y + int(self.rect_height*0.6)\n",
    "\n",
    "        # Connector\n",
    "        self.left_connector_x = self.rect_x\n",
    "        self.left_connector_y = self.rect_y + self.rect_height/2\n",
    "        self.right_connector_x = self.rect_x + self.rect_width\n",
    "        self.right_connector_y = self.left_connector_y\n",
    "\n",
    "    def draw(self):\n",
    "        if self.text[:7] == 'ARRAY--' and self.text[-7:] == '--ITEMS':\n",
    "            draw_rect = f'<rect x=\"{self.rect_x}\" y=\"{self.rect_y}\" width=\"{self.rect_width}\" height=\"{self.rect_height}\" rx=\"{self.rect_rx}\" ry=\"{self.rect_ry}\" fill=\"{self.rect_fill}\" stroke=\"#f07171\" stroke-width=\"4\"/>'\n",
    "        else:\n",
    "            draw_rect = f'<rect x=\"{self.rect_x}\" y=\"{self.rect_y}\" width=\"{self.rect_width}\" height=\"{self.rect_height}\" rx=\"{self.rect_rx}\" ry=\"{self.rect_ry}\" fill=\"{self.rect_fill}\" />'\n",
    "        draw_text = f'<text x=\"{self.text_x}\" y=\"{self.text_y}\" style=\"fill: #8DECB4;\">{self.text}</text>'\n",
    "        draw_left_connector = f'<circle cx=\"{self.left_connector_x}\" cy=\"{self.left_connector_y}\" r=\"5\" fill=\"#41B06E\"/>'\n",
    "        draw_right_connector = f'<circle cx=\"{self.right_connector_x}\" cy=\"{self.right_connector_y}\" r=\"5\" fill=\"#41B06E\"/>'\n",
    "        return draw_rect + '\\n' + draw_text + '\\n' + draw_left_connector + '\\n' + draw_right_connector\n",
    "\n",
    "def draw_quadratic_curve(stringy):\n",
    "    start, end = stringy.split('.')\n",
    "    start_x = rectangle_instances[f'{start}_rectangle'].right_connector_x\n",
    "    start_y = rectangle_instances[f'{start}_rectangle'].right_connector_y\n",
    "    end_x = rectangle_instances[f'{end}_rectangle'].left_connector_x\n",
    "    end_y = rectangle_instances[f'{end}_rectangle'].left_connector_y\n",
    "\n",
    "    control_in_x = (start_x + end_x)*0.48\n",
    "    control_in_y = (start_y + end_y)*0.48\n",
    "\n",
    "    control_out_x = (start_x + end_x)*0.52\n",
    "    control_out_y = (start_y + end_y)*0.52\n",
    "\n",
    "    return f'<path d=\"M{start_x},{start_y} C {control_in_x},{control_in_y}, {control_out_x},{control_out_y}, {end_x},{end_y}\" stroke=\"#41B06E\" stroke-width=\"2\" fill=\"none\"/>'"
   ]
  },
  {
   "cell_type": "code",
   "execution_count": 382,
   "metadata": {
    "metadata": {}
   },
   "outputs": [
    {
     "name": "stdout",
     "output_type": "stream",
     "text": [
      "['ARRAY--3--ITEMS.index start at 5', 'ROOT.random float', 'array.ARRAY--5--ITEMS', 'Siana.age', 'ROOT.bool', 'ROOT.array', 'ROOT.regEx', 'ROOT.email uses current data', 'ROOT.date', 'ROOT.array of objects', 'array of objects.ARRAY--3--ITEMS', 'ROOT.email from expression', 'ARRAY--3--ITEMS.index end at infinite', 'ROOT.Siana', 'ROOT.random', 'ARRAY--3--ITEMS.index']\n"
     ]
    }
   ],
   "source": [
    "# print(all_items)\n",
    "\n",
    "def get_paths(stringy):\n",
    "    splitted_list = stringy.split('.')\n",
    "    answer = []\n",
    "    for ind in range(1, len(splitted_list)):\n",
    "        answer.append(splitted_list[ind-1] + '.' + splitted_list[ind])\n",
    "    return answer\n",
    "\n",
    "all_paths_master = []\n",
    "for item in all_items:\n",
    "    all_paths = get_paths(item)\n",
    "    all_paths_master.extend(all_paths)\n",
    "\n",
    "all_paths_master = list(set(all_paths_master))\n",
    "print(all_paths_master)"
   ]
  },
  {
   "cell_type": "code",
   "execution_count": 383,
   "metadata": {
    "metadata": {}
   },
   "outputs": [],
   "source": [
    "rectangle_instances = {}\n",
    "with open('a.html', 'w') as f:\n",
    "    f.write(html_head)\n",
    "    f.write('\\n')\n",
    "\n",
    "    for text, rect_x, rect_y in final_consolidated_list:\n",
    "        if text != 'NULL':\n",
    "            instance_name = f\"{text}_rectangle\" \n",
    "            temp = rectangle_with_text(text=text, rect_x=rect_x, rect_y=rect_y)\n",
    "            rectangle_instances[instance_name] = temp\n",
    "            f.write(temp.draw())\n",
    "            f.write('\\n')\n",
    "    \n",
    "    for item in all_paths_master:\n",
    "        p = draw_quadratic_curve(item)\n",
    "        f.write(p)\n",
    "        f.write('\\n')\n",
    "\n",
    "    f.write(html_tail)"
   ]
  }
 ],
 "metadata": {
  "kernelspec": {
   "display_name": "Python 3",
   "language": "python",
   "name": "python3"
  },
  "language_info": {
   "codemirror_mode": {
    "name": "ipython",
    "version": 3
   },
   "file_extension": ".py",
   "mimetype": "text/x-python",
   "name": "python",
   "nbconvert_exporter": "python",
   "pygments_lexer": "ipython3",
   "version": "3.12.3"
  }
 },
 "nbformat": 4,
 "nbformat_minor": 2
}
