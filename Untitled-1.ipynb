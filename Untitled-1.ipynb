{
 "cells": [
  {
   "cell_type": "code",
   "execution_count": 52,
   "metadata": {
    "metadata": {}
   },
   "outputs": [
    {
     "data": {
      "text/plain": [
       "{'random': '33',\n",
       " 'random float': '7.662',\n",
       " 'bool': 'true',\n",
       " 'date': '1987-01-13',\n",
       " 'regEx': 'hellooooooooooooooooooooooooooooooooooooooooooooooooooooooooooooooooooooooo world',\n",
       " 'enum': 'generator',\n",
       " 'firstname': 'Vevay',\n",
       " 'lastname': 'Kalinda',\n",
       " 'city': 'Cairo',\n",
       " 'country': 'Finland',\n",
       " 'countryCode': 'TN',\n",
       " 'email uses current data': 'Vevay.Kalinda@gmail.com',\n",
       " 'email from expression': 'Vevay.Kalinda@yopmail.com',\n",
       " 'array': ['Cacilie', 'Nerta', 'Blake', 'Wanda', 'Melanie'],\n",
       " 'array of objects': [{'index': '0', 'index start at 5': '5'},\n",
       "  {'index': '1', 'index start at 5': '6'},\n",
       "  {'index': '2', 'index start at 5': '7'}],\n",
       " 'Siana': {'age': '65'}}"
      ]
     },
     "execution_count": 52,
     "metadata": {},
     "output_type": "execute_result"
    }
   ],
   "source": [
    "import json\n",
    "\n",
    "with open('data.json', 'r') as f:\n",
    "    data = json.load(f)\n",
    "\n",
    "data\n"
   ]
  },
  {
   "cell_type": "code",
   "execution_count": 53,
   "metadata": {
    "metadata": {}
   },
   "outputs": [],
   "source": [
    "html_head = '''\n",
    "<!DOCTYPE html>\n",
    "<html>\n",
    "    <head>\n",
    "        <title>JSON Visual</title>\n",
    "        <style>body {background-color: black; font-family:monospace}</style>\n",
    "    </head>\n",
    "    <body>\n",
    "        <svg width=\"1000\" height=\"1000\">\n",
    "'''\n",
    "\n",
    "html_tail = '''\n",
    "        </svg>\n",
    "    </body>\n",
    "</html>\n",
    "'''\n",
    "\n",
    "repo = []"
   ]
  },
  {
   "cell_type": "code",
   "execution_count": 54,
   "metadata": {
    "metadata": {}
   },
   "outputs": [],
   "source": [
    "class rectangle_with_text:\n",
    "    def __init__(self, text, level, gap, min_x):\n",
    "        # General\n",
    "        self.text = text\n",
    "        self.level = level\n",
    "        self.gap = gap\n",
    "        self.min_x = min_x\n",
    "\n",
    "        # Rectangle\n",
    "        self.rect_x = self.gap + self.min_x\n",
    "        self.rect_y = 10\n",
    "        self.rect_rx = 10\n",
    "        self.rect_ry = 10\n",
    "        self.rect_width = self.rect_rx + len(self.text) * 8 + self.rect_ry\n",
    "        self.rect_height = 40\n",
    "        self.rect_fill = 'lightblue'\n",
    "\n",
    "        # Text\n",
    "        self.text_x = self.rect_x + (self.rect_width - len(self.text) * 8)/2\n",
    "        self.text_y = self.rect_y + int(self.rect_height*0.6)\n",
    "\n",
    "        # Connector\n",
    "        self.left_connector_x = self.rect_x\n",
    "        self.left_connector_y = self.rect_y + self.rect_height/2\n",
    "        self.right_connector_x = self.rect_x + self.rect_width\n",
    "        self.right_connector_y = self.left_connector_y\n",
    "\n",
    "        # Add to repo\n",
    "        repo.append((self.text, self.right_connector_x, level))\n",
    "\n",
    "    def draw(self):\n",
    "        draw_rect = f'<rect x=\"{self.rect_x}\" y=\"{self.rect_y}\" width=\"{self.rect_width}\" height=\"{self.rect_height}\" rx=\"{self.rect_rx}\" ry=\"{self.rect_ry}\" fill=\"{self.rect_fill}\" />'\n",
    "        draw_text = f'<text x=\"{self.text_x}\" y=\"{self.text_y}\">{self.text}</text>'\n",
    "        draw_left_connector = f'<circle cx=\"{self.left_connector_x}\" cy=\"{self.left_connector_y}\" r=\"5\" fill=\"red\"/>'\n",
    "        draw_right_connector = f'<circle cx=\"{self.right_connector_x}\" cy=\"{self.right_connector_y}\" r=\"5\" fill=\"red\"/>'\n",
    "        return draw_rect + '\\n' + draw_text + '\\n' + draw_left_connector + '\\n' + draw_right_connector"
   ]
  },
  {
   "cell_type": "code",
   "execution_count": 55,
   "metadata": {
    "metadata": {}
   },
   "outputs": [],
   "source": [
    "def max_x_for_level(level_given):\n",
    "    max_x = 0\n",
    "    for text, right_connector_x, level in repo:\n",
    "        if level == level_given and right_connector_x > max_x:\n",
    "            max_x = right_connector_x\n",
    "    return max_x"
   ]
  },
  {
   "cell_type": "code",
   "execution_count": 56,
   "metadata": {
    "metadata": {}
   },
   "outputs": [
    {
     "name": "stdout",
     "output_type": "stream",
     "text": [
      "['random', 'random float', 'bool', 'date', 'regEx', 'enum', 'firstname', 'lastname', 'city', 'country', 'countryCode', 'email uses current data', 'email from expression', 'array', 'array of objects', 'Siana']\n",
      "62\n",
      "[('ROOT', 62, 0), ('random', 330, 1), ('random float', 378, 1), ('bool', 314, 1), ('date', 314, 1), ('regEx', 322, 1), ('enum', 314, 1), ('firstname', 354, 1), ('lastname', 346, 1), ('city', 314, 1), ('country', 338, 1), ('countryCode', 370, 1), ('email uses current data', 466, 1), ('email from expression', 450, 1), ('array', 322, 1), ('array of objects', 410, 1), ('Siana', 322, 1)]\n"
     ]
    }
   ],
   "source": [
    "gap = 200\n",
    "l1 = list(data.keys())\n",
    "print(l1)\n",
    "\n",
    "with open('a.html', 'w') as f:\n",
    "    f.write(html_head)\n",
    "    f.write('\\n')\n",
    "\n",
    "    root = rectangle_with_text(text='ROOT', level=0, gap=10, min_x=0)\n",
    "    f.write(root.draw())\n",
    "    f.write('\\n')\n",
    "\n",
    "    max_x = max_x_for_level(level_given=0)\n",
    "    print(max_x)\n",
    "\n",
    "    vertical = 0\n",
    "    for key in l1:\n",
    "        level1 = rectangle_with_text(text=key, level=1, gap=gap, min_x=max_x)\n",
    "        level1.rect_y = level1.rect_y + vertical\n",
    "        level1.text_y = level1.text_y + vertical\n",
    "        level1.left_connector_y = level1.left_connector_y + vertical\n",
    "        level1.right_connector_y = level1.right_connector_y + vertical\n",
    "        f.write(level1.draw())\n",
    "        f.write('\\n')\n",
    "        vertical += 50\n",
    "    \n",
    "\n",
    "    f.write(html_tail)\n",
    "print(repo)"
   ]
  }
 ],
 "metadata": {
  "kernelspec": {
   "display_name": "Python 3",
   "language": "python",
   "name": "python3"
  },
  "language_info": {
   "codemirror_mode": {
    "name": "ipython",
    "version": 3
   },
   "file_extension": ".py",
   "mimetype": "text/x-python",
   "name": "python",
   "nbconvert_exporter": "python",
   "pygments_lexer": "ipython3",
   "version": "3.12.3"
  }
 },
 "nbformat": 4,
 "nbformat_minor": 2
}
