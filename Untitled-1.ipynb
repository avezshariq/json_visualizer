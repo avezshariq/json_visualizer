{
 "cells": [
  {
   "cell_type": "code",
   "execution_count": 30,
   "metadata": {
    "metadata": {}
   },
   "outputs": [
    {
     "data": {
      "text/plain": [
       "{'random': 33,\n",
       " 'random float': '7.662',\n",
       " 'bool': True,\n",
       " 'date': '1987-01-13',\n",
       " 'regEx': 'hellooooooooooooooooooooooooooooooooooooooooooooooooooooooooooooooooooooooo world',\n",
       " 'enum': 'generator',\n",
       " 'firstname': 'Vevay',\n",
       " 'lastname': 'Kalinda',\n",
       " 'city': 'Cairo',\n",
       " 'country': 'Finland',\n",
       " 'countryCode': 'TN',\n",
       " 'email uses current data': 'Vevay.Kalinda@gmail.com',\n",
       " 'email from expression': 'Vevay.Kalinda@yopmail.com',\n",
       " 'array': ['Cacilie', 'Nerta', 'Blake', 'Wanda', 'Melanie'],\n",
       " 'array of objects': [{'index': '0', 'index start at 5': '5'},\n",
       "  {'index': '1', 'index start at 5': '6'},\n",
       "  {'index': '2', 'index start at 5': '7'}],\n",
       " 'Siana': {'age': '65'}}"
      ]
     },
     "execution_count": 30,
     "metadata": {},
     "output_type": "execute_result"
    }
   ],
   "source": [
    "import json\n",
    "\n",
    "with open('data.json', 'r') as f:\n",
    "    data = json.load(f)\n",
    "\n",
    "data\n"
   ]
  },
  {
   "cell_type": "code",
   "execution_count": 31,
   "metadata": {
    "metadata": {}
   },
   "outputs": [
    {
     "name": "stdout",
     "output_type": "stream",
     "text": [
      "['ROOT.lastname', 'ROOT.array of objects.[---3 items---].index start at 5', 'ROOT.firstname', 'ROOT.countryCode', 'ROOT.date', 'ROOT.email uses current data', 'ROOT.bool', 'ROOT.array.[---5 items---]', 'ROOT.city', 'ROOT.email from expression', 'ROOT.array of objects.[---3 items---].index', 'ROOT.country', 'ROOT.Siana.age', 'ROOT.random', 'ROOT.regEx', 'ROOT.enum', 'ROOT.random float']\n"
     ]
    }
   ],
   "source": [
    "def json_sorter(obj, initial_string='ROOT'):\n",
    "    if isinstance(obj, dict):\n",
    "        for key, value in obj.items():\n",
    "            if isinstance(value, int) or isinstance(value, float) or isinstance(value, str) or isinstance(value, bool):\n",
    "                result = initial_string + '.' + key\n",
    "                all_items.append(result)\n",
    "            else:\n",
    "                stringy = initial_string + '.' + key\n",
    "                json_sorter(value, initial_string=stringy)\n",
    "    elif isinstance(obj, list):\n",
    "        length = len(obj)\n",
    "        stringy = f'{initial_string}.[---{len(obj)} items---]'\n",
    "        for item in obj:\n",
    "            if isinstance(item, int) or isinstance(item, float) or isinstance(item, str) or isinstance(item, bool):\n",
    "                result = f'{initial_string}.[---{length} items---]'\n",
    "                all_items.append(result)\n",
    "            else:\n",
    "                json_sorter(item, initial_string=stringy)\n",
    "\n",
    "all_items = []\n",
    "json_sorter(data)\n",
    "all_items = list(set(all_items))\n",
    "print(all_items)"
   ]
  },
  {
   "cell_type": "code",
   "execution_count": 32,
   "metadata": {
    "metadata": {}
   },
   "outputs": [
    {
     "name": "stdout",
     "output_type": "stream",
     "text": [
      "['ROOT.lastname.NULL.NULL', 'ROOT.array of objects.[---3 items---].index start at 5', 'ROOT.firstname.NULL.NULL', 'ROOT.countryCode.NULL.NULL', 'ROOT.date.NULL.NULL', 'ROOT.email uses current data.NULL.NULL', 'ROOT.bool.NULL.NULL', 'ROOT.array.[---5 items---].NULL', 'ROOT.city.NULL.NULL', 'ROOT.email from expression.NULL.NULL', 'ROOT.array of objects.[---3 items---].index', 'ROOT.country.NULL.NULL', 'ROOT.Siana.age.NULL', 'ROOT.random.NULL.NULL', 'ROOT.regEx.NULL.NULL', 'ROOT.enum.NULL.NULL', 'ROOT.random float.NULL.NULL']\n"
     ]
    }
   ],
   "source": [
    "# Normalise the result\n",
    "max_length = 0\n",
    "for item in all_items:\n",
    "    splitted_list = item.split('.')\n",
    "    max_length = max(max_length, len(splitted_list))\n",
    "\n",
    "all_items_normalised = []\n",
    "for item in all_items:\n",
    "    splitted_list = item.split('.')\n",
    "    nulls_to_add = max_length - len(splitted_list)\n",
    "    if nulls_to_add:\n",
    "        stringy = item + '.NULL'*nulls_to_add\n",
    "    else:\n",
    "        stringy = item\n",
    "    all_items_normalised.append(item + '.NULL'*nulls_to_add)\n",
    "\n",
    "print(all_items_normalised)"
   ]
  },
  {
   "cell_type": "code",
   "execution_count": null,
   "metadata": {},
   "outputs": [],
   "source": [
    "# Group together"
   ]
  },
  {
   "cell_type": "code",
   "execution_count": 33,
   "metadata": {
    "metadata": {}
   },
   "outputs": [
    {
     "name": "stdout",
     "output_type": "stream",
     "text": [
      "{0: 10, 1: 242, 2: 626, 3: 946}\n",
      "{0: 10, 1: 70, 2: 130, 3: 190, 4: 250, 5: 310, 6: 370, 7: 430, 8: 490, 9: 550, 10: 610, 11: 670, 12: 730, 13: 790, 14: 850, 15: 910, 16: 970}\n"
     ]
    }
   ],
   "source": [
    "# Matrix type dimensioning\n",
    "matrix_cols = max_length\n",
    "matrix_rows = len(all_items_normalised)\n",
    "\n",
    "length_dict = {x:0 for x in range(matrix_cols)}\n",
    "for item in all_items_normalised:\n",
    "    splitted_list = item.split('.')\n",
    "    for i in range(matrix_cols):\n",
    "        length_dict[i] = max(length_dict[i], len(splitted_list[i]))\n",
    "\n",
    "x_dim_dict = {0:10}\n",
    "for i in range(1, matrix_cols):\n",
    "    x_dim_dict[i] =  x_dim_dict[i-1] + length_dict[i-1]*8 + 200\n",
    "\n",
    "print(x_dim_dict)\n",
    "y = list(range(10, 60*matrix_rows, 60))\n",
    "y_dim_dict = {i:y[i] for i in range(matrix_rows)}\n",
    "print(y_dim_dict)"
   ]
  },
  {
   "cell_type": "code",
   "execution_count": 34,
   "metadata": {
    "metadata": {}
   },
   "outputs": [
    {
     "name": "stdout",
     "output_type": "stream",
     "text": [
      "[[('ROOT', 10, 10), ('lastname', 242, 10), ('NULL', 626, 10), ('NULL', 946, 10)], [('ROOT', 10, 70), ('array of objects', 242, 70), ('[---3 items---]', 626, 70), ('index start at 5', 946, 70)], [('ROOT', 10, 130), ('firstname', 242, 130), ('NULL', 626, 130), ('NULL', 946, 130)], [('ROOT', 10, 190), ('countryCode', 242, 190), ('NULL', 626, 190), ('NULL', 946, 190)], [('ROOT', 10, 250), ('date', 242, 250), ('NULL', 626, 250), ('NULL', 946, 250)], [('ROOT', 10, 310), ('email uses current data', 242, 310), ('NULL', 626, 310), ('NULL', 946, 310)], [('ROOT', 10, 370), ('bool', 242, 370), ('NULL', 626, 370), ('NULL', 946, 370)], [('ROOT', 10, 430), ('array', 242, 430), ('[---5 items---]', 626, 430), ('NULL', 946, 430)], [('ROOT', 10, 490), ('city', 242, 490), ('NULL', 626, 490), ('NULL', 946, 490)], [('ROOT', 10, 550), ('email from expression', 242, 550), ('NULL', 626, 550), ('NULL', 946, 550)], [('ROOT', 10, 610), ('array of objects', 242, 610), ('[---3 items---]', 626, 610), ('index', 946, 610)], [('ROOT', 10, 670), ('country', 242, 670), ('NULL', 626, 670), ('NULL', 946, 670)], [('ROOT', 10, 730), ('Siana', 242, 730), ('age', 626, 730), ('NULL', 946, 730)], [('ROOT', 10, 790), ('random', 242, 790), ('NULL', 626, 790), ('NULL', 946, 790)], [('ROOT', 10, 850), ('regEx', 242, 850), ('NULL', 626, 850), ('NULL', 946, 850)], [('ROOT', 10, 910), ('enum', 242, 910), ('NULL', 626, 910), ('NULL', 946, 910)], [('ROOT', 10, 970), ('random float', 242, 970), ('NULL', 626, 970), ('NULL', 946, 970)]]\n"
     ]
    }
   ],
   "source": [
    "final_array = []\n",
    "for i in range(matrix_rows):\n",
    "    items = all_items_normalised[i].split('.')\n",
    "    array = []\n",
    "    for j in range(len(items)):\n",
    "        # print(i, j)\n",
    "        array.append((items[j], x_dim_dict[j], y_dim_dict[i]))\n",
    "    final_array.append(array)\n",
    "print(final_array)"
   ]
  },
  {
   "cell_type": "code",
   "execution_count": 27,
   "metadata": {
    "metadata": {}
   },
   "outputs": [],
   "source": [
    "width = max(x_dim_dict.values()) + 200\n",
    "height = max(y_dim_dict.values()) + 60\n",
    "html_head = '''\n",
    "<!DOCTYPE html>\n",
    "<html>\n",
    "    <head>\n",
    "        <title>JSON Visual</title>\n",
    "        <style>body {background-color: black; font-family:monospace}</style>\n",
    "    </head>\n",
    "    <body>\n",
    "'''\n",
    "html_head += f'\\t\\t<svg width=\"{width}\" height=\"{height}\">' \n",
    "\n",
    "html_tail = '''\n",
    "        </svg>\n",
    "    </body>\n",
    "</html>\n",
    "'''\n",
    "\n",
    "repo = []"
   ]
  },
  {
   "cell_type": "code",
   "execution_count": 28,
   "metadata": {
    "metadata": {}
   },
   "outputs": [],
   "source": [
    "class rectangle_with_text:\n",
    "    def __init__(self, text, rect_x, rect_y):\n",
    "        # General\n",
    "        self.text = text\n",
    "\n",
    "        # Rectangle\n",
    "        self.rect_x = rect_x\n",
    "        self.rect_y = rect_y\n",
    "        self.rect_rx = 10\n",
    "        self.rect_ry = 10\n",
    "        self.rect_width = self.rect_rx + len(self.text) * 8 + self.rect_ry\n",
    "        self.rect_height = 50\n",
    "        self.rect_fill = 'lightblue'\n",
    "\n",
    "        # Text\n",
    "        self.text_x = self.rect_x + (self.rect_width - len(self.text) * 8)/2\n",
    "        self.text_y = self.rect_y + int(self.rect_height*0.6)\n",
    "\n",
    "        # Connector\n",
    "        self.left_connector_x = self.rect_x\n",
    "        self.left_connector_y = self.rect_y + self.rect_height/2\n",
    "        self.right_connector_x = self.rect_x + self.rect_width\n",
    "        self.right_connector_y = self.left_connector_y\n",
    "\n",
    "    def draw(self):\n",
    "        draw_rect = f'<rect x=\"{self.rect_x}\" y=\"{self.rect_y}\" width=\"{self.rect_width}\" height=\"{self.rect_height}\" rx=\"{self.rect_rx}\" ry=\"{self.rect_ry}\" fill=\"{self.rect_fill}\" />'\n",
    "        draw_text = f'<text x=\"{self.text_x}\" y=\"{self.text_y}\">{self.text}</text>'\n",
    "        draw_left_connector = f'<circle cx=\"{self.left_connector_x}\" cy=\"{self.left_connector_y}\" r=\"5\" fill=\"red\"/>'\n",
    "        draw_right_connector = f'<circle cx=\"{self.right_connector_x}\" cy=\"{self.right_connector_y}\" r=\"5\" fill=\"red\"/>'\n",
    "        return draw_rect + '\\n' + draw_text + '\\n' + draw_left_connector + '\\n' + draw_right_connector"
   ]
  },
  {
   "cell_type": "code",
   "execution_count": 29,
   "metadata": {
    "metadata": {}
   },
   "outputs": [],
   "source": [
    "with open('a.html', 'w') as f:\n",
    "    f.write(html_head)\n",
    "    f.write('\\n')\n",
    "\n",
    "    for text, rect_x, rect_y in final_array:\n",
    "        temp = rectangle_with_text(text=text, rect_x=rect_x, rect_y=rect_y)\n",
    "        f.write(temp.draw())\n",
    "        f.write('\\n')\n",
    "\n",
    "    f.write(html_tail)"
   ]
  }
 ],
 "metadata": {
  "kernelspec": {
   "display_name": "Python 3",
   "language": "python",
   "name": "python3"
  },
  "language_info": {
   "codemirror_mode": {
    "name": "ipython",
    "version": 3
   },
   "file_extension": ".py",
   "mimetype": "text/x-python",
   "name": "python",
   "nbconvert_exporter": "python",
   "pygments_lexer": "ipython3",
   "version": "3.12.3"
  }
 },
 "nbformat": 4,
 "nbformat_minor": 2
}
