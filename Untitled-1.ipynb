{
 "cells": [
  {
   "cell_type": "code",
   "execution_count": 1,
   "metadata": {
    "metadata": {}
   },
   "outputs": [
    {
     "data": {
      "text/plain": [
       "{'random': '33',\n",
       " 'random float': '7.662',\n",
       " 'bool': 'true',\n",
       " 'date': '1987-01-13',\n",
       " 'regEx': 'hellooooooooooooooooooooooooooooooooooooooooooooooooooooooooooooooooooooooo world',\n",
       " 'enum': 'generator',\n",
       " 'firstname': 'Vevay',\n",
       " 'lastname': 'Kalinda',\n",
       " 'city': 'Cairo',\n",
       " 'country': 'Finland',\n",
       " 'countryCode': 'TN',\n",
       " 'email uses current data': 'Vevay.Kalinda@gmail.com',\n",
       " 'email from expression': 'Vevay.Kalinda@yopmail.com',\n",
       " 'array': ['Cacilie', 'Nerta', 'Blake', 'Wanda', 'Melanie'],\n",
       " 'array of objects': [{'index': '0', 'index start at 5': '5'},\n",
       "  {'index': '1', 'index start at 5': '6'},\n",
       "  {'index': '2', 'index start at 5': '7'}],\n",
       " 'Siana': {'age': '65'}}"
      ]
     },
     "execution_count": 1,
     "metadata": {},
     "output_type": "execute_result"
    }
   ],
   "source": [
    "import json\n",
    "\n",
    "with open('data.json', 'r') as f:\n",
    "    data = json.load(f)\n",
    "\n",
    "data\n"
   ]
  }
 ],
 "metadata": {
  "kernelspec": {
   "display_name": "Python 3",
   "language": "python",
   "name": "python3"
  },
  "language_info": {
   "codemirror_mode": {
    "name": "ipython",
    "version": 3
   },
   "file_extension": ".py",
   "mimetype": "text/x-python",
   "name": "python",
   "nbconvert_exporter": "python",
   "pygments_lexer": "ipython3",
   "version": "3.12.3"
  }
 },
 "nbformat": 4,
 "nbformat_minor": 2
}
